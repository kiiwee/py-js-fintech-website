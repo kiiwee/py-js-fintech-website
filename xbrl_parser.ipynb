{
 "cells": [
  {
   "cell_type": "code",
   "execution_count": 77,
   "metadata": {},
   "outputs": [
    {
     "name": "stdout",
     "output_type": "stream",
     "text": [
      "\n",
      "[<td scope=\"row\">5</td>, <td scope=\"row\">XBRL TAXONOMY EXTENSION SCHEMA DOCUMENT</td>, <td scope=\"row\"><a href=\"/Archives/edgar/data/320193/000032019322000059/aapl-20220326.xsd\">aapl-20220326.xsd</a></td>, <td scope=\"row\">EX-101.SCH</td>, <td scope=\"row\">35163</td>, <td scope=\"row\">6</td>, <td scope=\"row\">XBRL TAXONOMY EXTENSION CALCULATION LINKBASE DOCUMENT</td>, <td scope=\"row\"><a href=\"/Archives/edgar/data/320193/000032019322000059/aapl-20220326_cal.xml\">aapl-20220326_cal.xml</a></td>, <td scope=\"row\">EX-101.CAL</td>, <td scope=\"row\">85165</td>, <td scope=\"row\">7</td>, <td scope=\"row\">XBRL TAXONOMY EXTENSION DEFINITION LINKBASE DOCUMENT</td>, <td scope=\"row\"><a href=\"/Archives/edgar/data/320193/000032019322000059/aapl-20220326_def.xml\">aapl-20220326_def.xml</a></td>, <td scope=\"row\">EX-101.DEF</td>, <td scope=\"row\">157188</td>, <td scope=\"row\">8</td>, <td scope=\"row\">XBRL TAXONOMY EXTENSION LABEL LINKBASE DOCUMENT</td>, <td scope=\"row\"><a href=\"/Archives/edgar/data/320193/000032019322000059/aapl-20220326_lab.xml\">aapl-20220326_lab.xml</a></td>, <td scope=\"row\">EX-101.LAB</td>, <td scope=\"row\">472033</td>, <td scope=\"row\">9</td>, <td scope=\"row\">XBRL TAXONOMY EXTENSION PRESENTATION LINKBASE DOCUMENT</td>, <td scope=\"row\"><a href=\"/Archives/edgar/data/320193/000032019322000059/aapl-20220326_pre.xml\">aapl-20220326_pre.xml</a></td>, <td scope=\"row\">EX-101.PRE</td>, <td scope=\"row\">287390</td>, <td scope=\"row\">57</td>, <td scope=\"row\"><b>EXTRACTED</b> XBRL INSTANCE DOCUMENT</td>, <td scope=\"row\"><a href=\"/Archives/edgar/data/320193/000032019322000059/aapl-20220326_htm.xml\">aapl-20220326_htm.xml</a></td>, <td scope=\"row\">XML</td>, <td scope=\"row\">1214261</td>]\n",
      "Link:\n",
      "https://www.sec.gov/Archives/edgar/data/320193/000032019322000059/aapl-20220326_htm.xml\n"
     ]
    }
   ],
   "source": [
    "from urllib.request import urlopen as uReq\n",
    "import requests\n",
    "import bs4 as bs\n",
    "\n",
    "\n",
    "url = \"https://www.sec.gov/cgi-bin/browse-edgar?action=getcompany&CIK=AAPL&type=&dateb=&owner=exclude&start=0&count=80&output=atom\"\n",
    "headers = {\"User-Agent\":\"Mozilla/5.0 (Macintosh; Intel Mac OS X 10_15_4) AppleWebKit/537.36 (KHTML, like Gecko) Chrome/83.0.4103.97 Safari/537.36\"}\n",
    "download = requests.get(f'https://www.sec.gov/cgi-bin/browse-edgar?action=getcompany&CIK=0000320193&type=&dateb=&owner=exclude&start=0&count=80&output=atom',headers=headers).content\n",
    "#download=download.decode(\"utf-8\").split('\\n')\n",
    "\n",
    "html = bs.BeautifulSoup(download, 'xml')\n",
    "#print(html.prettify())\n",
    "entries = html.findAll(\"entry\")\n",
    "    \n",
    "shouldContinue = True\n",
    "link = \"\"\n",
    "\n",
    "print(link)\n",
    "for entry in entries:\n",
    "    #print(entry)\n",
    "    if shouldContinue and (entry.find(\"category\")[\"term\"].lower() == \"10-k\" or entry.find(\"category\")[\"term\"].lower() == \"10-q\" or entry.find(\"category\")[\"term\"].lower() == \"20-f\"):\n",
    "        \n",
    "        firstUrl = entry.find(\"link\")[\"href\"]\n",
    "        uClientFirstUrl = requests.get(firstUrl,headers=headers).content\n",
    "        htmlFirstUrl = bs.BeautifulSoup(uClientFirstUrl, 'xml')\n",
    "        #print(htmlFirstUrl.prettify())\n",
    "        tds = htmlFirstUrl.findAll(\"table\")\n",
    "        #print(tds)\n",
    "        tdresult = tds[1].findAll(\"td\")\n",
    "        print(tdresult)\n",
    "        foundtd = False\n",
    "        for td in tdresult:\n",
    "            if foundtd == True:\n",
    "                link = \"https://www.sec.gov\" + td.find(\"a\")[\"href\"]\n",
    "                print('Link:')\n",
    "                print(link)\n",
    "                foundtd = False\n",
    "            if \"xbrl instance\" in td.text.lower():\n",
    "                foundtd = True\n",
    "\n",
    "            shouldContinue = False\n",
    "    #print(link)\n"
   ]
  },
  {
   "cell_type": "code",
   "execution_count": 89,
   "metadata": {},
   "outputs": [],
   "source": [
    "import logging\n",
    "from xbrl.cache import HttpCache\n",
    "from xbrl.instance import XbrlInstance, XbrlParser\n",
    "\n",
    "logging.basicConfig(level=logging.INFO)\n",
    "cache: HttpCache = HttpCache('./cache')\n",
    "# Replace the dummy header with your information!! \n",
    "# services like SEC EDGAR require you to disclose information about your bot! (https://www.sec.gov/privacy.htm#security)\n",
    "cache.set_headers({'From': 'your.name@company.com', 'User-Agent': 'Tool/Version (Website)'})\n",
    "xbrlParser = XbrlParser(cache)\n",
    " \n",
    "xbrl_url = link\n",
    "inst: XbrlInstance = xbrlParser.parse_instance(xbrl_url)\n",
    "\n",
    "\n",
    "\n"
   ]
  },
  {
   "cell_type": "code",
   "execution_count": 90,
   "metadata": {},
   "outputs": [
    {
     "ename": "ValueError",
     "evalue": "Index contains duplicate entries, cannot reshape",
     "output_type": "error",
     "traceback": [
      "\u001b[0;31m---------------------------------------------------------------------------\u001b[0m",
      "\u001b[0;31mValueError\u001b[0m                                Traceback (most recent call last)",
      "\u001b[1;32m/Users/ilianstoev/Documents/FINTECH_STARTUP/xbrl_parser.ipynb Cell 3'\u001b[0m in \u001b[0;36m<module>\u001b[0;34m\u001b[0m\n\u001b[1;32m     <a href='vscode-notebook-cell:/Users/ilianstoev/Documents/FINTECH_STARTUP/xbrl_parser.ipynb#ch0000001?line=25'>26</a>\u001b[0m df\u001b[39m.\u001b[39mdrop_duplicates(inplace\u001b[39m=\u001b[39m\u001b[39mTrue\u001b[39;00m)\n\u001b[1;32m     <a href='vscode-notebook-cell:/Users/ilianstoev/Documents/FINTECH_STARTUP/xbrl_parser.ipynb#ch0000001?line=26'>27</a>\u001b[0m \u001b[39m#pivot the dataframe so that the concept name is now the column\u001b[39;00m\n\u001b[0;32m---> <a href='vscode-notebook-cell:/Users/ilianstoev/Documents/FINTECH_STARTUP/xbrl_parser.ipynb#ch0000001?line=27'>28</a>\u001b[0m pivot_df: pd\u001b[39m.\u001b[39mDataFrame() \u001b[39m=\u001b[39m df\u001b[39m.\u001b[39;49mpivot(index\u001b[39m=\u001b[39;49m\u001b[39m'\u001b[39;49m\u001b[39mdate\u001b[39;49m\u001b[39m'\u001b[39;49m, columns\u001b[39m=\u001b[39;49m\u001b[39m'\u001b[39;49m\u001b[39mconcept\u001b[39;49m\u001b[39m'\u001b[39;49m)\n\u001b[1;32m     <a href='vscode-notebook-cell:/Users/ilianstoev/Documents/FINTECH_STARTUP/xbrl_parser.ipynb#ch0000001?line=28'>29</a>\u001b[0m df\u001b[39m.\u001b[39mto_csv(\u001b[39m'\u001b[39m\u001b[39mparsed.csv\u001b[39m\u001b[39m'\u001b[39m, sep\u001b[39m=\u001b[39m\u001b[39m'\u001b[39m\u001b[39m\\t\u001b[39;00m\u001b[39m'\u001b[39m, encoding\u001b[39m=\u001b[39m\u001b[39m'\u001b[39m\u001b[39mutf-8\u001b[39m\u001b[39m'\u001b[39m)\n",
      "File \u001b[0;32m/Library/Frameworks/Python.framework/Versions/3.10/lib/python3.10/site-packages/pandas/core/frame.py:7876\u001b[0m, in \u001b[0;36mDataFrame.pivot\u001b[0;34m(self, index, columns, values)\u001b[0m\n\u001b[1;32m   <a href='file:///Library/Frameworks/Python.framework/Versions/3.10/lib/python3.10/site-packages/pandas/core/frame.py?line=7870'>7871</a>\u001b[0m \u001b[39m@Substitution\u001b[39m(\u001b[39m\"\u001b[39m\u001b[39m\"\u001b[39m)\n\u001b[1;32m   <a href='file:///Library/Frameworks/Python.framework/Versions/3.10/lib/python3.10/site-packages/pandas/core/frame.py?line=7871'>7872</a>\u001b[0m \u001b[39m@Appender\u001b[39m(_shared_docs[\u001b[39m\"\u001b[39m\u001b[39mpivot\u001b[39m\u001b[39m\"\u001b[39m])\n\u001b[1;32m   <a href='file:///Library/Frameworks/Python.framework/Versions/3.10/lib/python3.10/site-packages/pandas/core/frame.py?line=7872'>7873</a>\u001b[0m \u001b[39mdef\u001b[39;00m \u001b[39mpivot\u001b[39m(\u001b[39mself\u001b[39m, index\u001b[39m=\u001b[39m\u001b[39mNone\u001b[39;00m, columns\u001b[39m=\u001b[39m\u001b[39mNone\u001b[39;00m, values\u001b[39m=\u001b[39m\u001b[39mNone\u001b[39;00m) \u001b[39m-\u001b[39m\u001b[39m>\u001b[39m DataFrame:\n\u001b[1;32m   <a href='file:///Library/Frameworks/Python.framework/Versions/3.10/lib/python3.10/site-packages/pandas/core/frame.py?line=7873'>7874</a>\u001b[0m     \u001b[39mfrom\u001b[39;00m \u001b[39mpandas\u001b[39;00m\u001b[39m.\u001b[39;00m\u001b[39mcore\u001b[39;00m\u001b[39m.\u001b[39;00m\u001b[39mreshape\u001b[39;00m\u001b[39m.\u001b[39;00m\u001b[39mpivot\u001b[39;00m \u001b[39mimport\u001b[39;00m pivot\n\u001b[0;32m-> <a href='file:///Library/Frameworks/Python.framework/Versions/3.10/lib/python3.10/site-packages/pandas/core/frame.py?line=7875'>7876</a>\u001b[0m     \u001b[39mreturn\u001b[39;00m pivot(\u001b[39mself\u001b[39;49m, index\u001b[39m=\u001b[39;49mindex, columns\u001b[39m=\u001b[39;49mcolumns, values\u001b[39m=\u001b[39;49mvalues)\n",
      "File \u001b[0;32m/Library/Frameworks/Python.framework/Versions/3.10/lib/python3.10/site-packages/pandas/core/reshape/pivot.py:520\u001b[0m, in \u001b[0;36mpivot\u001b[0;34m(data, index, columns, values)\u001b[0m\n\u001b[1;32m    <a href='file:///Library/Frameworks/Python.framework/Versions/3.10/lib/python3.10/site-packages/pandas/core/reshape/pivot.py?line=517'>518</a>\u001b[0m     \u001b[39melse\u001b[39;00m:\n\u001b[1;32m    <a href='file:///Library/Frameworks/Python.framework/Versions/3.10/lib/python3.10/site-packages/pandas/core/reshape/pivot.py?line=518'>519</a>\u001b[0m         indexed \u001b[39m=\u001b[39m data\u001b[39m.\u001b[39m_constructor_sliced(data[values]\u001b[39m.\u001b[39m_values, index\u001b[39m=\u001b[39mmultiindex)\n\u001b[0;32m--> <a href='file:///Library/Frameworks/Python.framework/Versions/3.10/lib/python3.10/site-packages/pandas/core/reshape/pivot.py?line=519'>520</a>\u001b[0m \u001b[39mreturn\u001b[39;00m indexed\u001b[39m.\u001b[39;49munstack(columns_listlike)\n",
      "File \u001b[0;32m/Library/Frameworks/Python.framework/Versions/3.10/lib/python3.10/site-packages/pandas/core/frame.py:8419\u001b[0m, in \u001b[0;36mDataFrame.unstack\u001b[0;34m(self, level, fill_value)\u001b[0m\n\u001b[1;32m   <a href='file:///Library/Frameworks/Python.framework/Versions/3.10/lib/python3.10/site-packages/pandas/core/frame.py?line=8356'>8357</a>\u001b[0m \u001b[39m\"\"\"\u001b[39;00m\n\u001b[1;32m   <a href='file:///Library/Frameworks/Python.framework/Versions/3.10/lib/python3.10/site-packages/pandas/core/frame.py?line=8357'>8358</a>\u001b[0m \u001b[39mPivot a level of the (necessarily hierarchical) index labels.\u001b[39;00m\n\u001b[1;32m   <a href='file:///Library/Frameworks/Python.framework/Versions/3.10/lib/python3.10/site-packages/pandas/core/frame.py?line=8358'>8359</a>\u001b[0m \n\u001b[0;32m   (...)\u001b[0m\n\u001b[1;32m   <a href='file:///Library/Frameworks/Python.framework/Versions/3.10/lib/python3.10/site-packages/pandas/core/frame.py?line=8414'>8415</a>\u001b[0m \u001b[39mdtype: float64\u001b[39;00m\n\u001b[1;32m   <a href='file:///Library/Frameworks/Python.framework/Versions/3.10/lib/python3.10/site-packages/pandas/core/frame.py?line=8415'>8416</a>\u001b[0m \u001b[39m\"\"\"\u001b[39;00m\n\u001b[1;32m   <a href='file:///Library/Frameworks/Python.framework/Versions/3.10/lib/python3.10/site-packages/pandas/core/frame.py?line=8416'>8417</a>\u001b[0m \u001b[39mfrom\u001b[39;00m \u001b[39mpandas\u001b[39;00m\u001b[39m.\u001b[39;00m\u001b[39mcore\u001b[39;00m\u001b[39m.\u001b[39;00m\u001b[39mreshape\u001b[39;00m\u001b[39m.\u001b[39;00m\u001b[39mreshape\u001b[39;00m \u001b[39mimport\u001b[39;00m unstack\n\u001b[0;32m-> <a href='file:///Library/Frameworks/Python.framework/Versions/3.10/lib/python3.10/site-packages/pandas/core/frame.py?line=8418'>8419</a>\u001b[0m result \u001b[39m=\u001b[39m unstack(\u001b[39mself\u001b[39;49m, level, fill_value)\n\u001b[1;32m   <a href='file:///Library/Frameworks/Python.framework/Versions/3.10/lib/python3.10/site-packages/pandas/core/frame.py?line=8420'>8421</a>\u001b[0m \u001b[39mreturn\u001b[39;00m result\u001b[39m.\u001b[39m__finalize__(\u001b[39mself\u001b[39m, method\u001b[39m=\u001b[39m\u001b[39m\"\u001b[39m\u001b[39munstack\u001b[39m\u001b[39m\"\u001b[39m)\n",
      "File \u001b[0;32m/Library/Frameworks/Python.framework/Versions/3.10/lib/python3.10/site-packages/pandas/core/reshape/reshape.py:478\u001b[0m, in \u001b[0;36munstack\u001b[0;34m(obj, level, fill_value)\u001b[0m\n\u001b[1;32m    <a href='file:///Library/Frameworks/Python.framework/Versions/3.10/lib/python3.10/site-packages/pandas/core/reshape/reshape.py?line=475'>476</a>\u001b[0m \u001b[39mif\u001b[39;00m \u001b[39misinstance\u001b[39m(obj, DataFrame):\n\u001b[1;32m    <a href='file:///Library/Frameworks/Python.framework/Versions/3.10/lib/python3.10/site-packages/pandas/core/reshape/reshape.py?line=476'>477</a>\u001b[0m     \u001b[39mif\u001b[39;00m \u001b[39misinstance\u001b[39m(obj\u001b[39m.\u001b[39mindex, MultiIndex):\n\u001b[0;32m--> <a href='file:///Library/Frameworks/Python.framework/Versions/3.10/lib/python3.10/site-packages/pandas/core/reshape/reshape.py?line=477'>478</a>\u001b[0m         \u001b[39mreturn\u001b[39;00m _unstack_frame(obj, level, fill_value\u001b[39m=\u001b[39;49mfill_value)\n\u001b[1;32m    <a href='file:///Library/Frameworks/Python.framework/Versions/3.10/lib/python3.10/site-packages/pandas/core/reshape/reshape.py?line=478'>479</a>\u001b[0m     \u001b[39melse\u001b[39;00m:\n\u001b[1;32m    <a href='file:///Library/Frameworks/Python.framework/Versions/3.10/lib/python3.10/site-packages/pandas/core/reshape/reshape.py?line=479'>480</a>\u001b[0m         \u001b[39mreturn\u001b[39;00m obj\u001b[39m.\u001b[39mT\u001b[39m.\u001b[39mstack(dropna\u001b[39m=\u001b[39m\u001b[39mFalse\u001b[39;00m)\n",
      "File \u001b[0;32m/Library/Frameworks/Python.framework/Versions/3.10/lib/python3.10/site-packages/pandas/core/reshape/reshape.py:505\u001b[0m, in \u001b[0;36m_unstack_frame\u001b[0;34m(obj, level, fill_value)\u001b[0m\n\u001b[1;32m    <a href='file:///Library/Frameworks/Python.framework/Versions/3.10/lib/python3.10/site-packages/pandas/core/reshape/reshape.py?line=502'>503</a>\u001b[0m     \u001b[39mreturn\u001b[39;00m obj\u001b[39m.\u001b[39m_constructor(mgr)\n\u001b[1;32m    <a href='file:///Library/Frameworks/Python.framework/Versions/3.10/lib/python3.10/site-packages/pandas/core/reshape/reshape.py?line=503'>504</a>\u001b[0m \u001b[39melse\u001b[39;00m:\n\u001b[0;32m--> <a href='file:///Library/Frameworks/Python.framework/Versions/3.10/lib/python3.10/site-packages/pandas/core/reshape/reshape.py?line=504'>505</a>\u001b[0m     unstacker \u001b[39m=\u001b[39m _Unstacker(obj\u001b[39m.\u001b[39;49mindex, level\u001b[39m=\u001b[39;49mlevel, constructor\u001b[39m=\u001b[39;49mobj\u001b[39m.\u001b[39;49m_constructor)\n\u001b[1;32m    <a href='file:///Library/Frameworks/Python.framework/Versions/3.10/lib/python3.10/site-packages/pandas/core/reshape/reshape.py?line=505'>506</a>\u001b[0m     \u001b[39mreturn\u001b[39;00m unstacker\u001b[39m.\u001b[39mget_result(\n\u001b[1;32m    <a href='file:///Library/Frameworks/Python.framework/Versions/3.10/lib/python3.10/site-packages/pandas/core/reshape/reshape.py?line=506'>507</a>\u001b[0m         obj\u001b[39m.\u001b[39m_values, value_columns\u001b[39m=\u001b[39mobj\u001b[39m.\u001b[39mcolumns, fill_value\u001b[39m=\u001b[39mfill_value\n\u001b[1;32m    <a href='file:///Library/Frameworks/Python.framework/Versions/3.10/lib/python3.10/site-packages/pandas/core/reshape/reshape.py?line=507'>508</a>\u001b[0m     )\n",
      "File \u001b[0;32m/Library/Frameworks/Python.framework/Versions/3.10/lib/python3.10/site-packages/pandas/core/reshape/reshape.py:140\u001b[0m, in \u001b[0;36m_Unstacker.__init__\u001b[0;34m(self, index, level, constructor)\u001b[0m\n\u001b[1;32m    <a href='file:///Library/Frameworks/Python.framework/Versions/3.10/lib/python3.10/site-packages/pandas/core/reshape/reshape.py?line=132'>133</a>\u001b[0m \u001b[39mif\u001b[39;00m num_cells \u001b[39m>\u001b[39m np\u001b[39m.\u001b[39miinfo(np\u001b[39m.\u001b[39mint32)\u001b[39m.\u001b[39mmax:\n\u001b[1;32m    <a href='file:///Library/Frameworks/Python.framework/Versions/3.10/lib/python3.10/site-packages/pandas/core/reshape/reshape.py?line=133'>134</a>\u001b[0m     warnings\u001b[39m.\u001b[39mwarn(\n\u001b[1;32m    <a href='file:///Library/Frameworks/Python.framework/Versions/3.10/lib/python3.10/site-packages/pandas/core/reshape/reshape.py?line=134'>135</a>\u001b[0m         \u001b[39mf\u001b[39m\u001b[39m\"\u001b[39m\u001b[39mThe following operation may generate \u001b[39m\u001b[39m{\u001b[39;00mnum_cells\u001b[39m}\u001b[39;00m\u001b[39m cells \u001b[39m\u001b[39m\"\u001b[39m\n\u001b[1;32m    <a href='file:///Library/Frameworks/Python.framework/Versions/3.10/lib/python3.10/site-packages/pandas/core/reshape/reshape.py?line=135'>136</a>\u001b[0m         \u001b[39mf\u001b[39m\u001b[39m\"\u001b[39m\u001b[39min the resulting pandas object.\u001b[39m\u001b[39m\"\u001b[39m,\n\u001b[1;32m    <a href='file:///Library/Frameworks/Python.framework/Versions/3.10/lib/python3.10/site-packages/pandas/core/reshape/reshape.py?line=136'>137</a>\u001b[0m         PerformanceWarning,\n\u001b[1;32m    <a href='file:///Library/Frameworks/Python.framework/Versions/3.10/lib/python3.10/site-packages/pandas/core/reshape/reshape.py?line=137'>138</a>\u001b[0m     )\n\u001b[0;32m--> <a href='file:///Library/Frameworks/Python.framework/Versions/3.10/lib/python3.10/site-packages/pandas/core/reshape/reshape.py?line=139'>140</a>\u001b[0m \u001b[39mself\u001b[39;49m\u001b[39m.\u001b[39;49m_make_selectors()\n",
      "File \u001b[0;32m/Library/Frameworks/Python.framework/Versions/3.10/lib/python3.10/site-packages/pandas/core/reshape/reshape.py:192\u001b[0m, in \u001b[0;36m_Unstacker._make_selectors\u001b[0;34m(self)\u001b[0m\n\u001b[1;32m    <a href='file:///Library/Frameworks/Python.framework/Versions/3.10/lib/python3.10/site-packages/pandas/core/reshape/reshape.py?line=188'>189</a>\u001b[0m mask\u001b[39m.\u001b[39mput(selector, \u001b[39mTrue\u001b[39;00m)\n\u001b[1;32m    <a href='file:///Library/Frameworks/Python.framework/Versions/3.10/lib/python3.10/site-packages/pandas/core/reshape/reshape.py?line=190'>191</a>\u001b[0m \u001b[39mif\u001b[39;00m mask\u001b[39m.\u001b[39msum() \u001b[39m<\u001b[39m \u001b[39mlen\u001b[39m(\u001b[39mself\u001b[39m\u001b[39m.\u001b[39mindex):\n\u001b[0;32m--> <a href='file:///Library/Frameworks/Python.framework/Versions/3.10/lib/python3.10/site-packages/pandas/core/reshape/reshape.py?line=191'>192</a>\u001b[0m     \u001b[39mraise\u001b[39;00m \u001b[39mValueError\u001b[39;00m(\u001b[39m\"\u001b[39m\u001b[39mIndex contains duplicate entries, cannot reshape\u001b[39m\u001b[39m\"\u001b[39m)\n\u001b[1;32m    <a href='file:///Library/Frameworks/Python.framework/Versions/3.10/lib/python3.10/site-packages/pandas/core/reshape/reshape.py?line=193'>194</a>\u001b[0m \u001b[39mself\u001b[39m\u001b[39m.\u001b[39mgroup_index \u001b[39m=\u001b[39m comp_index\n\u001b[1;32m    <a href='file:///Library/Frameworks/Python.framework/Versions/3.10/lib/python3.10/site-packages/pandas/core/reshape/reshape.py?line=194'>195</a>\u001b[0m \u001b[39mself\u001b[39m\u001b[39m.\u001b[39mmask \u001b[39m=\u001b[39m mask\n",
      "\u001b[0;31mValueError\u001b[0m: Index contains duplicate entries, cannot reshape"
     ]
    }
   ],
   "source": [
    "import pandas as pd\n",
    "import re\n",
    "extracted_data: [dict] = []\n",
    "selected_facts: [str] = ['Assets', 'Liabilities', 'StockholdersEquity','SalesRevenueNet']\n",
    "\n",
    "# for fact in inst.facts:\n",
    "#     p\n",
    "#     print(fact.concept.name)\n",
    "    \n",
    "for fact in inst.facts:\n",
    "    # use some kind of filter, otherwise your dataframe will have maaaaannnyyy columns (one for every concept)\n",
    "    #if fact.concept.name not in selected_facts: continue\n",
    "    # only select non-dimensional data for now\n",
    "    if len(fact.context.segments) > 0: continue\n",
    "    if hasattr(fact.context,'instant_date') and (fact,'value') and (fact.concept,'name')  :\n",
    "        concept_name=re.split('(?=[A-Z])', fact.concept.name)\n",
    "        name=''\n",
    "        for word in concept_name:\n",
    "            name+=' '+word\n",
    "\n",
    "        extracted_data.append({'date': fact.context.instant_date, 'concept': name , 'value': fact.value})\n",
    "\n",
    "\n",
    "\n",
    "df: pd.DataFrame = pd.DataFrame(data=extracted_data)\n",
    "df.drop_duplicates(inplace=True)\n",
    "#pivot the dataframe so that the concept name is now the column\n",
    "pivot_df: pd.DataFrame() = df.pivot(index='date', columns='concept')\n",
    "df.to_csv('parsed.csv', sep='\\t', encoding='utf-8')"
   ]
  }
 ],
 "metadata": {
  "interpreter": {
   "hash": "aee8b7b246df8f9039afb4144a1f6fd8d2ca17a180786b69acc140d282b71a49"
  },
  "kernelspec": {
   "display_name": "Python 3.10.0 64-bit",
   "language": "python",
   "name": "python3"
  },
  "language_info": {
   "codemirror_mode": {
    "name": "ipython",
    "version": 3
   },
   "file_extension": ".py",
   "mimetype": "text/x-python",
   "name": "python",
   "nbconvert_exporter": "python",
   "pygments_lexer": "ipython3",
   "version": "3.10.0"
  },
  "orig_nbformat": 4
 },
 "nbformat": 4,
 "nbformat_minor": 2
}
