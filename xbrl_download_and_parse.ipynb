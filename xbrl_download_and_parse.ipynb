{
 "cells": [
  {
   "cell_type": "code",
   "execution_count": 1,
   "metadata": {},
   "outputs": [
    {
     "name": "stderr",
     "output_type": "stream",
     "text": [
      "INFO:root:Parsing RSS feed ./edgar/rss-archives/xbrlrss-2016-01.xml\n"
     ]
    },
    {
     "ename": "XMLSyntaxError",
     "evalue": "Opening and ending tag mismatch: p line 50 and P, line 50, column 127 (xbrlrss-2016-01.xml, line 50)",
     "output_type": "error",
     "traceback": [
      "Traceback \u001b[0;36m(most recent call last)\u001b[0m:\n",
      "  File \u001b[1;32m/Library/Frameworks/Python.framework/Versions/3.10/lib/python3.10/site-packages/IPython/core/interactiveshell.py:3251\u001b[0m in \u001b[1;35mrun_code\u001b[0m\n    exec(code_obj, self.user_global_ns, self.user_ns)\n",
      "  Input \u001b[1;32mIn [1]\u001b[0m in \u001b[1;35m<module>\u001b[0m\n    indexer.download_sec_feeds(from_year, to_year)\n",
      "  File \u001b[1;32m/Library/Frameworks/Python.framework/Versions/3.10/lib/python3.10/site-packages/sec_edgar_download/indexer.py:119\u001b[0m in \u001b[1;35mdownload_sec_feeds\u001b[0m\n    edgar_dict = self.parse_sec_rss_feeds(filename)\n",
      "  File \u001b[1;32m/Library/Frameworks/Python.framework/Versions/3.10/lib/python3.10/site-packages/sec_edgar_download/indexer.py:248\u001b[0m in \u001b[1;35mparse_sec_rss_feeds\u001b[0m\n    root = etree.parse(rss_filename).getroot()\n",
      "  File \u001b[1;32msrc/lxml/etree.pyx:3536\u001b[0m in \u001b[1;35mlxml.etree.parse\u001b[0m\n",
      "  File \u001b[1;32msrc/lxml/parser.pxi:1876\u001b[0m in \u001b[1;35mlxml.etree._parseDocument\u001b[0m\n",
      "  File \u001b[1;32msrc/lxml/parser.pxi:1902\u001b[0m in \u001b[1;35mlxml.etree._parseDocumentFromURL\u001b[0m\n",
      "  File \u001b[1;32msrc/lxml/parser.pxi:1805\u001b[0m in \u001b[1;35mlxml.etree._parseDocFromFile\u001b[0m\n",
      "  File \u001b[1;32msrc/lxml/parser.pxi:1177\u001b[0m in \u001b[1;35mlxml.etree._BaseParser._parseDocFromFile\u001b[0m\n",
      "  File \u001b[1;32msrc/lxml/parser.pxi:615\u001b[0m in \u001b[1;35mlxml.etree._ParserContext._handleParseResultDoc\u001b[0m\n",
      "  File \u001b[1;32msrc/lxml/parser.pxi:725\u001b[0m in \u001b[1;35mlxml.etree._handleParseResult\u001b[0m\n",
      "\u001b[0;36m  File \u001b[0;32msrc/lxml/parser.pxi:654\u001b[0;36m in \u001b[0;35mlxml.etree._raiseParseError\u001b[0;36m\u001b[0m\n",
      "\u001b[0;36m  File \u001b[0;32m./edgar/rss-archives/xbrlrss-2016-01.xml:50\u001b[0;36m\u001b[0m\n\u001b[0;31m    <p class=\"note\"><b>Note:</b> We do not offer technical support for developing or debugging scripted downloading processes.</P>\u001b[0m\n\u001b[0m                                                                                                                                 ^\u001b[0m\n\u001b[0;31mXMLSyntaxError\u001b[0m\u001b[0;31m:\u001b[0m Opening and ending tag mismatch: p line 50 and P, line 50, column 127\n"
     ]
    }
   ],
   "source": [
    "from sec_edgar_download import indexer as ix\n",
    "work_dir = './edgar'\n",
    "from_year = 2016\n",
    "to_year = 2022\n",
    "indexer = ix.SecIndexer(work_dir)\n",
    "indexer.download_sec_feeds(from_year, to_year)\n"
   ]
  }
 ],
 "metadata": {
  "interpreter": {
   "hash": "aee8b7b246df8f9039afb4144a1f6fd8d2ca17a180786b69acc140d282b71a49"
  },
  "kernelspec": {
   "display_name": "Python 3.10.0 64-bit",
   "language": "python",
   "name": "python3"
  },
  "language_info": {
   "codemirror_mode": {
    "name": "ipython",
    "version": 3
   },
   "file_extension": ".py",
   "mimetype": "text/x-python",
   "name": "python",
   "nbconvert_exporter": "python",
   "pygments_lexer": "ipython3",
   "version": "3.10.0"
  },
  "orig_nbformat": 4
 },
 "nbformat": 4,
 "nbformat_minor": 2
}
